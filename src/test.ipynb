{
 "cells": [
  {
   "cell_type": "code",
   "outputs": [],
   "source": [
    "%load_ext autoreload\n",
    "%autoreload 2"
   ],
   "metadata": {
    "collapsed": false,
    "ExecuteTime": {
     "end_time": "2024-02-15T08:43:25.013413900Z",
     "start_time": "2024-02-15T08:43:24.930371300Z"
    }
   },
   "id": "d266a900a2da0484",
   "execution_count": 1
  },
  {
   "cell_type": "code",
   "outputs": [],
   "source": [
    "from robot_interface import RobotInterface\n",
    "import time"
   ],
   "metadata": {
    "collapsed": false,
    "ExecuteTime": {
     "end_time": "2024-02-15T08:43:45.199932300Z",
     "start_time": "2024-02-15T08:43:45.035369100Z"
    }
   },
   "id": "b47de52e76220dd3",
   "execution_count": 3
  },
  {
   "cell_type": "code",
   "outputs": [
    {
     "name": "stdout",
     "output_type": "stream",
     "text": [
      "Connecting Robot 6\n",
      "Connection successful Robot 6\n"
     ]
    }
   ],
   "source": [
    "interface = RobotInterface()"
   ],
   "metadata": {
    "collapsed": false,
    "ExecuteTime": {
     "end_time": "2024-02-15T08:44:06.814120400Z",
     "start_time": "2024-02-15T08:43:51.021553Z"
    }
   },
   "id": "ed75158e3c8607e0",
   "execution_count": 4
  },
  {
   "cell_type": "code",
   "outputs": [],
   "source": [
    "interface.close_robot()"
   ],
   "metadata": {
    "collapsed": false,
    "ExecuteTime": {
     "end_time": "2024-02-15T08:45:09.421927Z",
     "start_time": "2024-02-15T08:45:09.365432900Z"
    }
   },
   "id": "4cf23cafaa68d491",
   "execution_count": 5
  },
  {
   "cell_type": "code",
   "outputs": [],
   "source": [],
   "metadata": {
    "collapsed": false
   },
   "id": "37fc4b7ff8ffe8ec"
  }
 ],
 "metadata": {
  "kernelspec": {
   "display_name": "Python 3",
   "language": "python",
   "name": "python3"
  },
  "language_info": {
   "codemirror_mode": {
    "name": "ipython",
    "version": 2
   },
   "file_extension": ".py",
   "mimetype": "text/x-python",
   "name": "python",
   "nbconvert_exporter": "python",
   "pygments_lexer": "ipython2",
   "version": "2.7.6"
  }
 },
 "nbformat": 4,
 "nbformat_minor": 5
}
